{
 "metadata": {
  "language_info": {
   "codemirror_mode": {
    "name": "ipython",
    "version": 3
   },
   "file_extension": ".py",
   "mimetype": "text/x-python",
   "name": "python",
   "nbconvert_exporter": "python",
   "pygments_lexer": "ipython3",
   "version": "3.9.1-final"
  },
  "orig_nbformat": 2,
  "kernelspec": {
   "name": "python3",
   "display_name": "Python 3.9.1 64-bit",
   "metadata": {
    "interpreter": {
     "hash": "2ea0fd5b075136882d9beed19543467ee270e6365acd547b142b321a53a483a3"
    }
   }
  }
 },
 "nbformat": 4,
 "nbformat_minor": 2,
 "cells": [
  {
   "cell_type": "code",
   "execution_count": 101,
   "metadata": {},
   "outputs": [],
   "source": [
    "import os, subprocess, json, time, pickle\n",
    "from sklearn.ensemble import RandomForestClassifier\n",
    "from sklearn.feature_extraction import DictVectorizer\n",
    "from sklearn.pipeline import make_pipeline\n",
    "from sklearn.model_selection import cross_val_score\n",
    "from collections import Counter"
   ]
  },
  {
   "cell_type": "code",
   "execution_count": 107,
   "metadata": {},
   "outputs": [],
   "source": [
    "folder_path = os.getcwd()\n",
    "data_path = folder_path+\"\\data\"\n",
    "model_file = folder_path + \"\\model.pkl\"\n",
    "\n",
    "def parse_output(output):\n",
    "    ssid = bssid = quality = None\n",
    "    ssid_line = bssid_line = -100\n",
    "    results = []\n",
    "    for num, line in enumerate(output.split(\"\\n\")):\n",
    "        line = line.strip()\n",
    "        if line.startswith(\"SSID\"):\n",
    "            ssid = \" \".join(line.split()[3:]).strip()\n",
    "            ssid_line = num\n",
    "            if ssid == '':\n",
    "                ssid = 'None'\n",
    "        elif line.startswith(\"BSSID\"):\n",
    "            bssid = \":\".join(line.split(\":\")[1:]).strip()\n",
    "            bssid_line = num\n",
    "        elif num == bssid_line + 1:\n",
    "            quality = int(\":\".join(line.split(\":\")[1:]).strip().replace(\"%\", \"\"))\n",
    "            if bssid is not None:\n",
    "                ap = {\"ssid\":ssid, \"bssid\":bssid, \"quality\" : quality}\n",
    "                results.append(ap)\n",
    "    return results\n",
    "\n",
    "def make_str(output):\n",
    "    try:                        output = output.decode(\"utf8\",errors='ignore')\n",
    "    except UnicodeDecodeError:  output = output.decode(\"utf16\",errors='ignore')\n",
    "    except AttributeError:      pass\n",
    "    return                      output\n",
    "\n",
    "def get_sample():\n",
    "    netsh = subprocess.Popen(\"netsh wlan show networks mode=bssid\", stdout=subprocess.PIPE, shell=True)\n",
    "    (out, _) = netsh.communicate()\n",
    "    results = parse_output(make_str(out))\n",
    "    sample = {ap['ssid'] + \" \" + ap['bssid']: ap['quality'] for ap in results}\n",
    "    return sample\n",
    "\n",
    "\n",
    "\n",
    "def get_pipeline(clf=RandomForestClassifier(n_estimators=100, class_weight=\"balanced\")):\n",
    "    return make_pipeline(DictVectorizer(sparse=False), clf)\n",
    "\n",
    "def get_train_data(folder=None):\n",
    "    X = []\n",
    "    y = []\n",
    "    for file_name in os.listdir(folder):\n",
    "        if file_name.endswith(\".txt\"):\n",
    "            data = []\n",
    "            with open(os.path.join(folder, file_name)) as f:\n",
    "                for line in f:\n",
    "                    data.append(json.loads(line))\n",
    "            X.extend(data)\n",
    "            y.extend([file_name.rstrip(\".txt\")] * len(data))\n",
    "    return X, y\n",
    "\n",
    "def get_model():\n",
    "    try:\n",
    "        model_file = folder_path + \"\\model.pkl\"\n",
    "        with open(model_file, \"rb\") as f:\n",
    "            lp = pickle.load(f)\n",
    "        return lp\n",
    "    except: raise ValueError(\"Can not find model file!\")\n",
    "\n",
    "def train_model():\n",
    "    X, y = get_train_data(data_path)\n",
    "    if len(X) == 0: raise ValueError(\"Can not find any trained locations!\")\n",
    "    lp = get_pipeline()\n",
    "    lp.fit(X, y)\n",
    "    with open(model_file, \"wb\") as f:\n",
    "        pickle.dump(lp, f)\n",
    "\n",
    "def learn(label, n=1):\n",
    "    label_path = os.path.join(data_path, label + \".txt\")\n",
    "    try:\n",
    "        new_sample = get_sample()\n",
    "        if new_sample:\n",
    "            write_data(label_path, new_sample)\n",
    "            print(\"Done, number of measurement of\", locations(data_path, label))\n",
    "    except: pass\n",
    "    train_model()\n",
    "    \n",
    "def write_data(label_path, data):\n",
    "    with open(label_path, \"a\") as f:\n",
    "        f.write(json.dumps(data))\n",
    "        f.write(\"\\n\")\n",
    "\n",
    "\n",
    "def locations(path=None, loc=None):\n",
    "    _, y = get_train_data(path)\n",
    "    if len(y) == 0: \n",
    "        raise ValueError(\"Can not find any trained locations!\")\n",
    "    else:\n",
    "        occurrences = Counter(y)\n",
    "        if loc:\n",
    "            for key, value in occurrences.items():\n",
    "                if key == loc:\n",
    "                    return(\"{}: {}\".format(key, value))\n",
    "        else:\n",
    "            for key, value in occurrences.items():\n",
    "                print(\"{}: {}\".format(key, value))\n",
    "\n",
    "def predict_proba():\n",
    "    lp = get_model()\n",
    "    data_sample = get_sample()\n",
    "    print(json.dumps(dict(zip(lp.classes_, lp.predict_proba(data_sample)[0]))))\n",
    "\n",
    "def predict():\n",
    "    lp = get_model()\n",
    "    data_sample = get_sample()\n",
    "    return lp.predict(data_sample)[0]\n",
    "\n",
    "\n",
    "def crossval(clf=None, X=None, y=None, folds=10, n=5):\n",
    "    if X is None or y is None:\n",
    "        X, y = get_train_data(data_path)\n",
    "    if len(X) < folds:  raise ValueError('There are not enough samples ({}). Need at least {}.'.format(len(X), folds))\n",
    "    clf = clf or get_model()\n",
    "    tot = 0\n",
    "    print(\"KFold folds={}, running {} times\".format(folds, n))\n",
    "    for i in range(n):\n",
    "        res = cross_val_score(clf, X, y, cv=folds).mean()\n",
    "        tot += res\n",
    "        print(\"{}/{}: {}\".format(i + 1, n, res))\n",
    "    print(\"-------- total --------\")\n",
    "    print(tot / n)"
   ]
  },
  {
   "cell_type": "code",
   "execution_count": 100,
   "metadata": {},
   "outputs": [
    {
     "output_type": "stream",
     "name": "stdout",
     "text": [
      "home_kuchyn: 30\nhome_loby: 30\nhome_loznice: 69\nhome_obyvak: 142\noffice_kancl: 81\noffice_loby: 25\noffice_vyhled: 10\noffice_zasedacka: 45\n"
     ]
    }
   ],
   "source": [
    "locations(data_path)"
   ]
  },
  {
   "cell_type": "code",
   "execution_count": 14,
   "metadata": {},
   "outputs": [],
   "source": [
    "import sched, time\n",
    "s = sched.scheduler(time.time, time.sleep)\n",
    "def do_something(a): \n",
    "    print(\"Doing stuff...\")\n",
    "    \n",
    "    s.enter(a, 2, learn, argument=('home_loby',))\n",
    "    s.run()\n"
   ]
  },
  {
   "cell_type": "code",
   "execution_count": 15,
   "metadata": {
    "tags": []
   },
   "outputs": [
    {
     "output_type": "stream",
     "name": "stdout",
     "text": [
      "home_kuchyn: 30\n",
      "home_loznice: 69\n",
      "home_obyvak: 141\n",
      "office_kancl: 71\n",
      "office_loby: 25\n",
      "office_vyhled: 10\n",
      "office_zasedacka: 45\n",
      "measuring time: 1\n",
      "Doing stuff...\n",
      "Done, number of measurement of home_loby: 1\n",
      "measuring time: 2\n",
      "Doing stuff...\n",
      "Done, number of measurement of home_loby: 2\n",
      "measuring time: 3\n",
      "Doing stuff...\n",
      "Done, number of measurement of home_loby: 3\n",
      "measuring time: 4\n",
      "Doing stuff...\n",
      "Done, number of measurement of home_loby: 4\n",
      "measuring time: 5\n",
      "Doing stuff...\n",
      "Done, number of measurement of home_loby: 5\n",
      "measuring time: 6\n",
      "Doing stuff...\n",
      "Done, number of measurement of home_loby: 6\n",
      "measuring time: 7\n",
      "Doing stuff...\n",
      "Done, number of measurement of home_loby: 7\n",
      "measuring time: 8\n",
      "Doing stuff...\n",
      "Done, number of measurement of home_loby: 8\n",
      "measuring time: 9\n",
      "Doing stuff...\n",
      "Done, number of measurement of home_loby: 9\n",
      "measuring time: 10\n",
      "Doing stuff...\n",
      "Done, number of measurement of home_loby: 10\n",
      "measuring time: 11\n",
      "Doing stuff...\n",
      "Done, number of measurement of home_loby: 11\n",
      "measuring time: 12\n",
      "Doing stuff...\n",
      "Done, number of measurement of home_loby: 12\n",
      "measuring time: 13\n",
      "Doing stuff...\n",
      "Done, number of measurement of home_loby: 13\n",
      "measuring time: 14\n",
      "Doing stuff...\n",
      "Done, number of measurement of home_loby: 14\n",
      "measuring time: 15\n",
      "Doing stuff...\n",
      "Done, number of measurement of home_loby: 15\n",
      "measuring time: 16\n",
      "Doing stuff...\n",
      "Done, number of measurement of home_loby: 16\n",
      "measuring time: 17\n",
      "Doing stuff...\n",
      "Done, number of measurement of home_loby: 17\n",
      "measuring time: 18\n",
      "Doing stuff...\n",
      "Done, number of measurement of home_loby: 18\n",
      "measuring time: 19\n",
      "Doing stuff...\n",
      "Done, number of measurement of home_loby: 19\n",
      "measuring time: 20\n",
      "Doing stuff...\n",
      "Done, number of measurement of home_loby: 20\n",
      "measuring time: 21\n",
      "Doing stuff...\n",
      "Done, number of measurement of home_loby: 21\n",
      "measuring time: 22\n",
      "Doing stuff...\n",
      "Done, number of measurement of home_loby: 22\n",
      "measuring time: 23\n",
      "Doing stuff...\n",
      "Done, number of measurement of home_loby: 23\n",
      "measuring time: 24\n",
      "Doing stuff...\n",
      "Done, number of measurement of home_loby: 24\n",
      "measuring time: 25\n",
      "Doing stuff...\n",
      "Done, number of measurement of home_loby: 25\n",
      "measuring time: 26\n",
      "Doing stuff...\n",
      "Done, number of measurement of home_loby: 26\n",
      "measuring time: 27\n",
      "Doing stuff...\n",
      "Done, number of measurement of home_loby: 27\n",
      "measuring time: 28\n",
      "Doing stuff...\n",
      "Done, number of measurement of home_loby: 28\n",
      "measuring time: 29\n",
      "Doing stuff...\n",
      "Done, number of measurement of home_loby: 29\n",
      "measuring time: 30\n",
      "Doing stuff...\n",
      "Done, number of measurement of home_loby: 30\n",
      "home_kuchyn: 30\n",
      "home_loby: 30\n",
      "home_loznice: 69\n",
      "home_obyvak: 141\n",
      "office_kancl: 71\n",
      "office_loby: 25\n",
      "office_vyhled: 10\n",
      "office_zasedacka: 45\n"
     ]
    }
   ],
   "source": [
    "locations(data_path)\n",
    "for i in range(30):\n",
    "    print(\"measuring time:\", i+1)\n",
    "    do_something(60)\n",
    "\n",
    "locations(data_path)"
   ]
  },
  {
   "cell_type": "code",
   "execution_count": 90,
   "metadata": {},
   "outputs": [
    {
     "output_type": "stream",
     "name": "stdout",
     "text": [
      "Done, number of measurement of office_kancl: 81\n"
     ]
    }
   ],
   "source": [
    "learn(\"office_kancl\")"
   ]
  },
  {
   "cell_type": "code",
   "execution_count": 96,
   "metadata": {},
   "outputs": [
    {
     "output_type": "stream",
     "name": "stdout",
     "text": [
      "{\"home_kuchyn\": 0.0, \"home_loby\": 0.0, \"home_loznice\": 0.0, \"home_obyvak\": 0.0, \"office_kancl\": 0.97, \"office_loby\": 0.01, \"office_vyhled\": 0.01, \"office_zasedacka\": 0.01}\n"
     ]
    }
   ],
   "source": [
    "predict_proba()"
   ]
  },
  {
   "cell_type": "code",
   "execution_count": 108,
   "metadata": {},
   "outputs": [
    {
     "output_type": "stream",
     "name": "stdout",
     "text": [
      "KFold folds=10, running 5 times\n",
      "1/5: 0.9908033826638478\n",
      "2/5: 0.983985200845666\n",
      "3/5: 0.983985200845666\n",
      "4/5: 0.9908562367864693\n",
      "5/5: 0.9862579281183932\n",
      "-------- total --------\n",
      "0.9871775898520084\n"
     ]
    }
   ],
   "source": [
    "crossval()"
   ]
  },
  {
   "cell_type": "code",
   "execution_count": 42,
   "metadata": {},
   "outputs": [],
   "source": [
    "X, y = get_train_data(data_path)"
   ]
  },
  {
   "cell_type": "code",
   "execution_count": 43,
   "metadata": {
    "tags": []
   },
   "outputs": [
    {
     "output_type": "stream",
     "name": "stdout",
     "text": [
      "['home_kuchyn', 'home_kuchyn', 'home_kuchyn', 'home_kuchyn', 'home_kuchyn', 'home_kuchyn', 'home_kuchyn', 'home_kuchyn', 'home_kuchyn', 'home_kuchyn', 'home_kuchyn', 'home_kuchyn', 'home_kuchyn', 'home_kuchyn', 'home_kuchyn', 'home_kuchyn', 'home_kuchyn', 'home_kuchyn', 'home_kuchyn', 'home_kuchyn', 'home_kuchyn', 'home_kuchyn', 'home_kuchyn', 'home_kuchyn', 'home_kuchyn', 'home_kuchyn', 'home_kuchyn', 'home_kuchyn', 'home_kuchyn', 'home_kuchyn', 'home_loby', 'home_loby', 'home_loby', 'home_loby', 'home_loby', 'home_loby', 'home_loby', 'home_loby', 'home_loby', 'home_loby', 'home_loby', 'home_loby', 'home_loby', 'home_loby', 'home_loby', 'home_loby', 'home_loby', 'home_loby', 'home_loby', 'home_loby', 'home_loby', 'home_loby', 'home_loby', 'home_loby', 'home_loby', 'home_loby', 'home_loby', 'home_loby', 'home_loby', 'home_loby', 'home_loznice', 'home_loznice', 'home_loznice', 'home_loznice', 'home_loznice', 'home_loznice', 'home_loznice', 'home_loznice', 'home_loznice', 'home_loznice', 'home_loznice', 'home_loznice', 'home_loznice', 'home_loznice', 'home_loznice', 'home_loznice', 'home_loznice', 'home_loznice', 'home_loznice', 'home_loznice', 'home_loznice', 'home_loznice', 'home_loznice', 'home_loznice', 'home_loznice', 'home_loznice', 'home_loznice', 'home_loznice', 'home_loznice', 'home_loznice', 'home_loznice', 'home_loznice', 'home_loznice', 'home_loznice', 'home_loznice', 'home_loznice', 'home_loznice', 'home_loznice', 'home_loznice', 'home_loznice', 'home_loznice', 'home_loznice', 'home_loznice', 'home_loznice', 'home_loznice', 'home_loznice', 'home_loznice', 'home_loznice', 'home_loznice', 'home_loznice', 'home_loznice', 'home_loznice', 'home_loznice', 'home_loznice', 'home_loznice', 'home_loznice', 'home_loznice', 'home_loznice', 'home_loznice', 'home_loznice', 'home_loznice', 'home_loznice', 'home_loznice', 'home_loznice', 'home_loznice', 'home_loznice', 'home_loznice', 'home_loznice', 'home_loznice', 'home_obyvak', 'home_obyvak', 'home_obyvak', 'home_obyvak', 'home_obyvak', 'home_obyvak', 'home_obyvak', 'home_obyvak', 'home_obyvak', 'home_obyvak', 'home_obyvak', 'home_obyvak', 'home_obyvak', 'home_obyvak', 'home_obyvak', 'home_obyvak', 'home_obyvak', 'home_obyvak', 'home_obyvak', 'home_obyvak', 'home_obyvak', 'home_obyvak', 'home_obyvak', 'home_obyvak', 'home_obyvak', 'home_obyvak', 'home_obyvak', 'home_obyvak', 'home_obyvak', 'home_obyvak', 'home_obyvak', 'home_obyvak', 'home_obyvak', 'home_obyvak', 'home_obyvak', 'home_obyvak', 'home_obyvak', 'home_obyvak', 'home_obyvak', 'home_obyvak', 'home_obyvak', 'home_obyvak', 'home_obyvak', 'home_obyvak', 'home_obyvak', 'home_obyvak', 'home_obyvak', 'home_obyvak', 'home_obyvak', 'home_obyvak', 'home_obyvak', 'home_obyvak', 'home_obyvak', 'home_obyvak', 'home_obyvak', 'home_obyvak', 'home_obyvak', 'home_obyvak', 'home_obyvak', 'home_obyvak', 'home_obyvak', 'home_obyvak', 'home_obyvak', 'home_obyvak', 'home_obyvak', 'home_obyvak', 'home_obyvak', 'home_obyvak', 'home_obyvak', 'home_obyvak', 'home_obyvak', 'home_obyvak', 'home_obyvak', 'home_obyvak', 'home_obyvak', 'home_obyvak', 'home_obyvak', 'home_obyvak', 'home_obyvak', 'home_obyvak', 'home_obyvak', 'home_obyvak', 'home_obyvak', 'home_obyvak', 'home_obyvak', 'home_obyvak', 'home_obyvak', 'home_obyvak', 'home_obyvak', 'home_obyvak', 'home_obyvak', 'home_obyvak', 'home_obyvak', 'home_obyvak', 'home_obyvak', 'home_obyvak', 'home_obyvak', 'home_obyvak', 'home_obyvak', 'home_obyvak', 'home_obyvak', 'home_obyvak', 'home_obyvak', 'home_obyvak', 'home_obyvak', 'home_obyvak', 'home_obyvak', 'home_obyvak', 'home_obyvak', 'home_obyvak', 'home_obyvak', 'home_obyvak', 'home_obyvak', 'home_obyvak', 'home_obyvak', 'home_obyvak', 'home_obyvak', 'home_obyvak', 'home_obyvak', 'home_obyvak', 'home_obyvak', 'home_obyvak', 'home_obyvak', 'home_obyvak', 'home_obyvak', 'home_obyvak', 'home_obyvak', 'home_obyvak', 'home_obyvak', 'home_obyvak', 'home_obyvak', 'home_obyvak', 'home_obyvak', 'home_obyvak', 'home_obyvak', 'home_obyvak', 'home_obyvak', 'home_obyvak', 'home_obyvak', 'home_obyvak', 'home_obyvak', 'home_obyvak', 'office_kancl', 'office_kancl', 'office_kancl', 'office_kancl', 'office_kancl', 'office_kancl', 'office_kancl', 'office_kancl', 'office_kancl', 'office_kancl', 'office_kancl', 'office_kancl', 'office_kancl', 'office_kancl', 'office_kancl', 'office_kancl', 'office_kancl', 'office_kancl', 'office_kancl', 'office_kancl', 'office_kancl', 'office_kancl', 'office_kancl', 'office_kancl', 'office_kancl', 'office_kancl', 'office_kancl', 'office_kancl', 'office_kancl', 'office_kancl', 'office_kancl', 'office_kancl', 'office_kancl', 'office_kancl', 'office_kancl', 'office_kancl', 'office_kancl', 'office_kancl', 'office_kancl', 'office_kancl', 'office_kancl', 'office_kancl', 'office_kancl', 'office_kancl', 'office_kancl', 'office_kancl', 'office_kancl', 'office_kancl', 'office_kancl', 'office_kancl', 'office_kancl', 'office_kancl', 'office_kancl', 'office_kancl', 'office_kancl', 'office_kancl', 'office_kancl', 'office_kancl', 'office_kancl', 'office_kancl', 'office_kancl', 'office_kancl', 'office_kancl', 'office_kancl', 'office_kancl', 'office_kancl', 'office_kancl', 'office_kancl', 'office_kancl', 'office_kancl', 'office_kancl', 'office_kancl', 'office_kancl', 'office_kancl', 'office_loby', 'office_loby', 'office_loby', 'office_loby', 'office_loby', 'office_loby', 'office_loby', 'office_loby', 'office_loby', 'office_loby', 'office_loby', 'office_loby', 'office_loby', 'office_loby', 'office_loby', 'office_loby', 'office_loby', 'office_loby', 'office_loby', 'office_loby', 'office_loby', 'office_loby', 'office_loby', 'office_loby', 'office_loby', 'office_vyhled', 'office_vyhled', 'office_vyhled', 'office_vyhled', 'office_vyhled', 'office_vyhled', 'office_vyhled', 'office_vyhled', 'office_vyhled', 'office_vyhled', 'office_zasedacka', 'office_zasedacka', 'office_zasedacka', 'office_zasedacka', 'office_zasedacka', 'office_zasedacka', 'office_zasedacka', 'office_zasedacka', 'office_zasedacka', 'office_zasedacka', 'office_zasedacka', 'office_zasedacka', 'office_zasedacka', 'office_zasedacka', 'office_zasedacka', 'office_zasedacka', 'office_zasedacka', 'office_zasedacka', 'office_zasedacka', 'office_zasedacka', 'office_zasedacka', 'office_zasedacka', 'office_zasedacka', 'office_zasedacka', 'office_zasedacka', 'office_zasedacka', 'office_zasedacka', 'office_zasedacka', 'office_zasedacka', 'office_zasedacka', 'office_zasedacka', 'office_zasedacka', 'office_zasedacka', 'office_zasedacka', 'office_zasedacka', 'office_zasedacka', 'office_zasedacka', 'office_zasedacka', 'office_zasedacka', 'office_zasedacka', 'office_zasedacka', 'office_zasedacka', 'office_zasedacka', 'office_zasedacka', 'office_zasedacka']\n"
     ]
    }
   ],
   "source": [
    "print(y)"
   ]
  },
  {
   "cell_type": "code",
   "execution_count": 44,
   "metadata": {},
   "outputs": [],
   "source": [
    "df = (pd.json_normalize(X))"
   ]
  },
  {
   "cell_type": "code",
   "execution_count": 88,
   "metadata": {},
   "outputs": [],
   "source": [
    "df.to_excel(\"output.xlsx\") "
   ]
  },
  {
   "cell_type": "code",
   "execution_count": 46,
   "metadata": {},
   "outputs": [
    {
     "output_type": "stream",
     "name": "stdout",
     "text": [
      "     Farkpoint 70:54:25:70:7c:0c  Farkpoint 70:54:25:70:7c:0b  \\\n0                           56.0                         74.0   \n1                           58.0                         74.0   \n2                           58.0                         74.0   \n3                           58.0                         74.0   \n4                           58.0                         76.0   \n..                           ...                          ...   \n420                          NaN                          NaN   \n421                          NaN                          NaN   \n422                          NaN                          NaN   \n423                          NaN                          NaN   \n424                          NaN                          NaN   \n\n     DIR-53 ec:ad:e0:25:ce:45  UPC1456822 38:43:7d:c8:3d:73  \\\n0                        66.0                          26.0   \n1                        68.0                          26.0   \n2                        64.0                          26.0   \n3                        62.0                           NaN   \n4                        64.0                          26.0   \n..                        ...                           ...   \n420                       NaN                           NaN   \n421                       NaN                           NaN   \n422                       NaN                           NaN   \n423                       NaN                           NaN   \n424                       NaN                           NaN   \n\n     Stark Industries 38:43:7d:ee:40:8b  \\\n0                                  40.0   \n1                                  40.0   \n2                                  40.0   \n3                                  38.0   \n4                                  38.0   \n..                                  ...   \n420                                 NaN   \n421                                 NaN   \n422                                 NaN   \n423                                 NaN   \n424                                 NaN   \n\n     DIRECT-1oC48x Series 86:25:19:26:53:cb  UPC34DD272 ac:22:05:15:aa:28  \\\n0                                      50.0                          28.0   \n1                                      50.0                          30.0   \n2                                      50.0                          26.0   \n3                                      48.0                          28.0   \n4                                      56.0                          28.0   \n..                                      ...                           ...   \n420                                     NaN                           NaN   \n421                                     NaN                           NaN   \n422                                     NaN                           NaN   \n423                                     NaN                           NaN   \n424                                     NaN                           NaN   \n\n     Redmi 9AT d6:c5:0d:b6:15:9d  a1m_opik 40:b0:76:4a:a8:e0  \\\n0                           52.0                        52.0   \n1                           48.0                        56.0   \n2                           48.0                        56.0   \n3                           50.0                         NaN   \n4                           48.0                         NaN   \n..                           ...                         ...   \n420                          NaN                         NaN   \n421                          NaN                         NaN   \n422                          NaN                         NaN   \n423                          NaN                         NaN   \n424                          NaN                         NaN   \n\n     DIR-43 ee:ad:e0:35:ce:45  ...  Dominio 22:4e:26:61:40:ff  \\\n0                        92.0  ...                        NaN   \n1                       100.0  ...                        NaN   \n2                       100.0  ...                        NaN   \n3                       100.0  ...                        NaN   \n4                       100.0  ...                        NaN   \n..                        ...  ...                        ...   \n420                       NaN  ...                        NaN   \n421                       NaN  ...                        NaN   \n422                       NaN  ...                        NaN   \n423                       NaN  ...                        NaN   \n424                       NaN  ...                        NaN   \n\n     si16e 44:d9:e7:3c:3a:a0  Quadient - Guest 46:d9:e7:2f:90:b9  \\\n0                        NaN                                 NaN   \n1                        NaN                                 NaN   \n2                        NaN                                 NaN   \n3                        NaN                                 NaN   \n4                        NaN                                 NaN   \n..                       ...                                 ...   \n420                      NaN                                60.0   \n421                      NaN                                60.0   \n422                      NaN                                60.0   \n423                      NaN                                60.0   \n424                      NaN                                60.0   \n\n     Wonfood 12:4e:26:61:40:ff  PROFICIO 84:18:3a:38:8a:68  \\\n0                          NaN                         NaN   \n1                          NaN                         NaN   \n2                          NaN                         NaN   \n3                          NaN                         NaN   \n4                          NaN                         NaN   \n..                         ...                         ...   \n420                        NaN                         NaN   \n421                        NaN                         NaN   \n422                        NaN                         NaN   \n423                        NaN                         NaN   \n424                        NaN                         NaN   \n\n       46:d9:e7:2f:7c:f9    66:d9:e7:2f:7c:f9  Quadient 44:d9:e7:2f:7c:f9  \\\n0                    NaN                  NaN                         NaN   \n1                    NaN                  NaN                         NaN   \n2                    NaN                  NaN                         NaN   \n3                    NaN                  NaN                         NaN   \n4                    NaN                  NaN                         NaN   \n..                   ...                  ...                         ...   \n420                  NaN                  NaN                        56.0   \n421                  NaN                  NaN                        56.0   \n422                  NaN                  NaN                        56.0   \n423                  NaN                  NaN                        56.0   \n424                  NaN                  NaN                        56.0   \n\n     AndroidAP 32:ab:6a:c5:d9:d9  si20e f4:92:bf:61:94:85  \n0                            NaN                      NaN  \n1                            NaN                      NaN  \n2                            NaN                      NaN  \n3                            NaN                      NaN  \n4                            NaN                      NaN  \n..                           ...                      ...  \n420                         68.0                      NaN  \n421                         68.0                      NaN  \n422                         68.0                      NaN  \n423                         68.0                      NaN  \n424                         68.0                      NaN  \n\n[425 rows x 70 columns]\n"
     ]
    }
   ],
   "source": [
    "print(df)"
   ]
  },
  {
   "cell_type": "code",
   "execution_count": 45,
   "metadata": {},
   "outputs": [
    {
     "output_type": "stream",
     "name": "stdout",
     "text": [
      "['home_kuchyn' 'home_loby' 'home_loznice' 'home_obyvak' 'office_kancl'\n 'office_loby' 'office_vyhled' 'office_zasedacka']\n"
     ]
    }
   ],
   "source": [
    "lp = get_model()\n",
    "data_sample = get_sample()\n",
    "print(lp.classes_)"
   ]
  },
  {
   "cell_type": "code",
   "execution_count": 47,
   "metadata": {},
   "outputs": [
    {
     "output_type": "execute_result",
     "data": {
      "text/plain": [
       "       Farkpoint 70:54:25:70:7c:0c  Farkpoint 70:54:25:70:7c:0b  \\\n",
       "count                   271.000000                   271.000000   \n",
       "mean                     61.420664                    81.269373   \n",
       "std                      16.363469                    10.127216   \n",
       "min                      34.000000                    60.000000   \n",
       "25%                      52.000000                    74.000000   \n",
       "50%                      58.000000                    82.000000   \n",
       "75%                      78.000000                    88.000000   \n",
       "max                      98.000000                   100.000000   \n",
       "\n",
       "       DIR-53 ec:ad:e0:25:ce:45  UPC1456822 38:43:7d:c8:3d:73  \\\n",
       "count                271.000000                     23.000000   \n",
       "mean                  82.416974                     27.478261   \n",
       "std                    8.866893                      1.503619   \n",
       "min                   62.000000                     26.000000   \n",
       "25%                   82.000000                     26.000000   \n",
       "50%                   83.000000                     28.000000   \n",
       "75%                   86.000000                     28.000000   \n",
       "max                  100.000000                     30.000000   \n",
       "\n",
       "       Stark Industries 38:43:7d:ee:40:8b  \\\n",
       "count                           73.000000   \n",
       "mean                            32.273973   \n",
       "std                              9.142787   \n",
       "min                             18.000000   \n",
       "25%                             30.000000   \n",
       "50%                             34.000000   \n",
       "75%                             40.000000   \n",
       "max                             44.000000   \n",
       "\n",
       "       DIRECT-1oC48x Series 86:25:19:26:53:cb  UPC34DD272 ac:22:05:15:aa:28  \\\n",
       "count                              148.000000                     14.000000   \n",
       "mean                                56.675676                     28.142857   \n",
       "std                                  6.492503                      1.460092   \n",
       "min                                 46.000000                     26.000000   \n",
       "25%                                 52.000000                     28.000000   \n",
       "50%                                 56.000000                     28.000000   \n",
       "75%                                 60.000000                     29.500000   \n",
       "max                                 76.000000                     30.000000   \n",
       "\n",
       "       Redmi 9AT d6:c5:0d:b6:15:9d  a1m_opik 40:b0:76:4a:a8:e0  \\\n",
       "count                    13.000000                   66.000000   \n",
       "mean                     49.538462                   47.181818   \n",
       "std                       4.332347                   14.630746   \n",
       "min                      44.000000                   18.000000   \n",
       "25%                      46.000000                   34.750000   \n",
       "50%                      48.000000                   52.000000   \n",
       "75%                      50.000000                   58.000000   \n",
       "max                      58.000000                   62.000000   \n",
       "\n",
       "       DIR-43 ee:ad:e0:35:ce:45  ...  Dominio 22:4e:26:61:40:ff  \\\n",
       "count                264.000000  ...                        1.0   \n",
       "mean                  92.477273  ...                       54.0   \n",
       "std                    7.097867  ...                        NaN   \n",
       "min                   76.000000  ...                       54.0   \n",
       "25%                   87.000000  ...                       54.0   \n",
       "50%                   89.500000  ...                       54.0   \n",
       "75%                  100.000000  ...                       54.0   \n",
       "max                  100.000000  ...                       54.0   \n",
       "\n",
       "       si16e 44:d9:e7:3c:3a:a0  Quadient - Guest 46:d9:e7:2f:90:b9  \\\n",
       "count                      1.0                           72.000000   \n",
       "mean                      56.0                           54.388889   \n",
       "std                        NaN                            7.644487   \n",
       "min                       56.0                           44.000000   \n",
       "25%                       56.0                           44.000000   \n",
       "50%                       56.0                           60.000000   \n",
       "75%                       56.0                           60.000000   \n",
       "max                       56.0                           60.000000   \n",
       "\n",
       "       Wonfood 12:4e:26:61:40:ff  PROFICIO 84:18:3a:38:8a:68  \\\n",
       "count                        1.0                         1.0   \n",
       "mean                        50.0                        50.0   \n",
       "std                          NaN                         NaN   \n",
       "min                         50.0                        50.0   \n",
       "25%                         50.0                        50.0   \n",
       "50%                         50.0                        50.0   \n",
       "75%                         50.0                        50.0   \n",
       "max                         50.0                        50.0   \n",
       "\n",
       "         46:d9:e7:2f:7c:f9    66:d9:e7:2f:7c:f9  Quadient 44:d9:e7:2f:7c:f9  \\\n",
       "count            36.000000                  1.0                    47.00000   \n",
       "mean             44.166667                 50.0                    55.87234   \n",
       "std               1.000000                  NaN                     0.87519   \n",
       "min              44.000000                 50.0                    50.00000   \n",
       "25%              44.000000                 50.0                    56.00000   \n",
       "50%              44.000000                 50.0                    56.00000   \n",
       "75%              44.000000                 50.0                    56.00000   \n",
       "max              50.000000                 50.0                    56.00000   \n",
       "\n",
       "       AndroidAP 32:ab:6a:c5:d9:d9  si20e f4:92:bf:61:94:85  \n",
       "count                    84.000000                     35.0  \n",
       "mean                     65.833333                     50.0  \n",
       "std                       3.880235                      0.0  \n",
       "min                      60.000000                     50.0  \n",
       "25%                      60.000000                     50.0  \n",
       "50%                      68.000000                     50.0  \n",
       "75%                      68.000000                     50.0  \n",
       "max                      70.000000                     50.0  \n",
       "\n",
       "[8 rows x 70 columns]"
      ],
      "text/html": "<div>\n<style scoped>\n    .dataframe tbody tr th:only-of-type {\n        vertical-align: middle;\n    }\n\n    .dataframe tbody tr th {\n        vertical-align: top;\n    }\n\n    .dataframe thead th {\n        text-align: right;\n    }\n</style>\n<table border=\"1\" class=\"dataframe\">\n  <thead>\n    <tr style=\"text-align: right;\">\n      <th></th>\n      <th>Farkpoint 70:54:25:70:7c:0c</th>\n      <th>Farkpoint 70:54:25:70:7c:0b</th>\n      <th>DIR-53 ec:ad:e0:25:ce:45</th>\n      <th>UPC1456822 38:43:7d:c8:3d:73</th>\n      <th>Stark Industries 38:43:7d:ee:40:8b</th>\n      <th>DIRECT-1oC48x Series 86:25:19:26:53:cb</th>\n      <th>UPC34DD272 ac:22:05:15:aa:28</th>\n      <th>Redmi 9AT d6:c5:0d:b6:15:9d</th>\n      <th>a1m_opik 40:b0:76:4a:a8:e0</th>\n      <th>DIR-43 ee:ad:e0:35:ce:45</th>\n      <th>...</th>\n      <th>Dominio 22:4e:26:61:40:ff</th>\n      <th>si16e 44:d9:e7:3c:3a:a0</th>\n      <th>Quadient - Guest 46:d9:e7:2f:90:b9</th>\n      <th>Wonfood 12:4e:26:61:40:ff</th>\n      <th>PROFICIO 84:18:3a:38:8a:68</th>\n      <th>46:d9:e7:2f:7c:f9</th>\n      <th>66:d9:e7:2f:7c:f9</th>\n      <th>Quadient 44:d9:e7:2f:7c:f9</th>\n      <th>AndroidAP 32:ab:6a:c5:d9:d9</th>\n      <th>si20e f4:92:bf:61:94:85</th>\n    </tr>\n  </thead>\n  <tbody>\n    <tr>\n      <th>count</th>\n      <td>271.000000</td>\n      <td>271.000000</td>\n      <td>271.000000</td>\n      <td>23.000000</td>\n      <td>73.000000</td>\n      <td>148.000000</td>\n      <td>14.000000</td>\n      <td>13.000000</td>\n      <td>66.000000</td>\n      <td>264.000000</td>\n      <td>...</td>\n      <td>1.0</td>\n      <td>1.0</td>\n      <td>72.000000</td>\n      <td>1.0</td>\n      <td>1.0</td>\n      <td>36.000000</td>\n      <td>1.0</td>\n      <td>47.00000</td>\n      <td>84.000000</td>\n      <td>35.0</td>\n    </tr>\n    <tr>\n      <th>mean</th>\n      <td>61.420664</td>\n      <td>81.269373</td>\n      <td>82.416974</td>\n      <td>27.478261</td>\n      <td>32.273973</td>\n      <td>56.675676</td>\n      <td>28.142857</td>\n      <td>49.538462</td>\n      <td>47.181818</td>\n      <td>92.477273</td>\n      <td>...</td>\n      <td>54.0</td>\n      <td>56.0</td>\n      <td>54.388889</td>\n      <td>50.0</td>\n      <td>50.0</td>\n      <td>44.166667</td>\n      <td>50.0</td>\n      <td>55.87234</td>\n      <td>65.833333</td>\n      <td>50.0</td>\n    </tr>\n    <tr>\n      <th>std</th>\n      <td>16.363469</td>\n      <td>10.127216</td>\n      <td>8.866893</td>\n      <td>1.503619</td>\n      <td>9.142787</td>\n      <td>6.492503</td>\n      <td>1.460092</td>\n      <td>4.332347</td>\n      <td>14.630746</td>\n      <td>7.097867</td>\n      <td>...</td>\n      <td>NaN</td>\n      <td>NaN</td>\n      <td>7.644487</td>\n      <td>NaN</td>\n      <td>NaN</td>\n      <td>1.000000</td>\n      <td>NaN</td>\n      <td>0.87519</td>\n      <td>3.880235</td>\n      <td>0.0</td>\n    </tr>\n    <tr>\n      <th>min</th>\n      <td>34.000000</td>\n      <td>60.000000</td>\n      <td>62.000000</td>\n      <td>26.000000</td>\n      <td>18.000000</td>\n      <td>46.000000</td>\n      <td>26.000000</td>\n      <td>44.000000</td>\n      <td>18.000000</td>\n      <td>76.000000</td>\n      <td>...</td>\n      <td>54.0</td>\n      <td>56.0</td>\n      <td>44.000000</td>\n      <td>50.0</td>\n      <td>50.0</td>\n      <td>44.000000</td>\n      <td>50.0</td>\n      <td>50.00000</td>\n      <td>60.000000</td>\n      <td>50.0</td>\n    </tr>\n    <tr>\n      <th>25%</th>\n      <td>52.000000</td>\n      <td>74.000000</td>\n      <td>82.000000</td>\n      <td>26.000000</td>\n      <td>30.000000</td>\n      <td>52.000000</td>\n      <td>28.000000</td>\n      <td>46.000000</td>\n      <td>34.750000</td>\n      <td>87.000000</td>\n      <td>...</td>\n      <td>54.0</td>\n      <td>56.0</td>\n      <td>44.000000</td>\n      <td>50.0</td>\n      <td>50.0</td>\n      <td>44.000000</td>\n      <td>50.0</td>\n      <td>56.00000</td>\n      <td>60.000000</td>\n      <td>50.0</td>\n    </tr>\n    <tr>\n      <th>50%</th>\n      <td>58.000000</td>\n      <td>82.000000</td>\n      <td>83.000000</td>\n      <td>28.000000</td>\n      <td>34.000000</td>\n      <td>56.000000</td>\n      <td>28.000000</td>\n      <td>48.000000</td>\n      <td>52.000000</td>\n      <td>89.500000</td>\n      <td>...</td>\n      <td>54.0</td>\n      <td>56.0</td>\n      <td>60.000000</td>\n      <td>50.0</td>\n      <td>50.0</td>\n      <td>44.000000</td>\n      <td>50.0</td>\n      <td>56.00000</td>\n      <td>68.000000</td>\n      <td>50.0</td>\n    </tr>\n    <tr>\n      <th>75%</th>\n      <td>78.000000</td>\n      <td>88.000000</td>\n      <td>86.000000</td>\n      <td>28.000000</td>\n      <td>40.000000</td>\n      <td>60.000000</td>\n      <td>29.500000</td>\n      <td>50.000000</td>\n      <td>58.000000</td>\n      <td>100.000000</td>\n      <td>...</td>\n      <td>54.0</td>\n      <td>56.0</td>\n      <td>60.000000</td>\n      <td>50.0</td>\n      <td>50.0</td>\n      <td>44.000000</td>\n      <td>50.0</td>\n      <td>56.00000</td>\n      <td>68.000000</td>\n      <td>50.0</td>\n    </tr>\n    <tr>\n      <th>max</th>\n      <td>98.000000</td>\n      <td>100.000000</td>\n      <td>100.000000</td>\n      <td>30.000000</td>\n      <td>44.000000</td>\n      <td>76.000000</td>\n      <td>30.000000</td>\n      <td>58.000000</td>\n      <td>62.000000</td>\n      <td>100.000000</td>\n      <td>...</td>\n      <td>54.0</td>\n      <td>56.0</td>\n      <td>60.000000</td>\n      <td>50.0</td>\n      <td>50.0</td>\n      <td>50.000000</td>\n      <td>50.0</td>\n      <td>56.00000</td>\n      <td>70.000000</td>\n      <td>50.0</td>\n    </tr>\n  </tbody>\n</table>\n<p>8 rows × 70 columns</p>\n</div>"
     },
     "metadata": {},
     "execution_count": 47
    }
   ],
   "source": [
    "df.describe()"
   ]
  },
  {
   "cell_type": "code",
   "execution_count": null,
   "metadata": {},
   "outputs": [],
   "source": []
  }
 ]
}